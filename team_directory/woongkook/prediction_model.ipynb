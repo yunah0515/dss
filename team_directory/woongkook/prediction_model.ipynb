{
 "cells": [
  {
   "cell_type": "code",
   "execution_count": 1,
   "metadata": {},
   "outputs": [
    {
     "name": "stderr",
     "output_type": "stream",
     "text": [
      "/Users/woongkook/anaconda3/lib/python3.6/site-packages/sklearn/cross_validation.py:41: DeprecationWarning: This module was deprecated in version 0.18 in favor of the model_selection module into which all the refactored classes and functions are moved. Also note that the interface of the new CV iterators are different from that of this module. This module will be removed in 0.20.\n",
      "  \"This module will be removed in 0.20.\", DeprecationWarning)\n"
     ]
    }
   ],
   "source": [
    "import math\n",
    "import numpy as np \n",
    "from sklearn import svm, linear_model, cross_validation\n",
    "from sklearn.preprocessing import StandardScaler\n",
    "from sklearn.externals import joblib"
   ]
  },
  {
   "cell_type": "code",
   "execution_count": 2,
   "metadata": {},
   "outputs": [],
   "source": [
    "def rmsle_metrics(y_true, y_pred):\n",
    "    error = 0.0\n",
    "    for i in range(len(y_true)):\n",
    "        #print y_true[i], y_pred[i]\n",
    "        temp = math.pow(math.log(y_true[i]+1) - math.log(y_pred[i]+1), 2)\n",
    "        error += temp\n",
    "    rmsle_error = math.sqrt(error/len(y_true))\n",
    "    return rmsle_error"
   ]
  },
  {
   "cell_type": "code",
   "execution_count": 3,
   "metadata": {},
   "outputs": [],
   "source": [
    "def scale_data(X_train, item_nbr):\n",
    "    clf = StandardScaler()\n",
    "    scalar = clf.fit(X_train)\n",
    "    X_train = scalar.transform(X_train)\n",
    "    filename = \"scalar/scale_%d.pkl\" %(int(item_nbr))\n",
    "    joblib.dump(scalar, filename)\n",
    "    return X_train"
   ]
  },
  {
   "cell_type": "code",
   "execution_count": 4,
   "metadata": {},
   "outputs": [],
   "source": [
    "def linear_regression_train(X_train, y_train, item_nbr):\n",
    "    clf = linear_model.LinearRegression()\n",
    "    clf.fit(X_train, y_train)\n",
    "    filename = \"model/LR_model_%d.pkl\" %(int(item_nbr))\n",
    "    joblib.dump(clf, filename)"
   ]
  },
  {
   "cell_type": "code",
   "execution_count": 5,
   "metadata": {},
   "outputs": [],
   "source": [
    "def linear_regression_test(X_test, item_nbr):\n",
    "    scalar_name = \"scalar/scale_%d.pkl\" %(int(item_nbr))\n",
    "    scalar = joblib.load(scalar_name)\n",
    "    X_test = scalar.transform(X_test)\n",
    "\n",
    "    model_name = \"model/LR_model_%d.pkl\" %(int(item_nbr))\n",
    "    clf = joblib.load(model_name)\n",
    "    y_pred = clf.predict(X_test)\n",
    "    return y_pred"
   ]
  },
  {
   "cell_type": "code",
   "execution_count": 6,
   "metadata": {},
   "outputs": [],
   "source": [
    "def lasso_train(X_train, y_train, item_nbr):\n",
    "    clf = linear_model.Lasso()\n",
    "    clf.fit(X_train, y_train)\n",
    "    filename = \"model/Lasso_model_%d.pkl\" %(int(item_nbr))\n",
    "    joblib.dump(clf, filename)"
   ]
  },
  {
   "cell_type": "code",
   "execution_count": 7,
   "metadata": {},
   "outputs": [],
   "source": [
    "def lasso_test(X_test, item_nbr):\n",
    "    scalar_name = \"scalar/scale_%d.pkl\" %(int(item_nbr))\n",
    "    scalar = joblib.load(scalar_name)\n",
    "    X_test = scalar.transform(X_test)\n",
    "\n",
    "    model_name = \"model/Lasso_model_%d.pkl\" %(int(item_nbr))\n",
    "    clf = joblib.load(model_name)\n",
    "    y_pred = clf.predict(X_test)\n",
    "    return y_pred"
   ]
  },
  {
   "cell_type": "code",
   "execution_count": 8,
   "metadata": {},
   "outputs": [],
   "source": [
    "def svm_train(X_train, y_train, item_nbr, svm_kernel):\n",
    "    if svm_kernel == 'linear':\n",
    "        clf = svm.SVR(kernel=svm_kernel, C=1.0, epsilon=0.2)\n",
    "    elif svm_kernel == 'poly':\n",
    "        clf = svm.SVR(kernel=svm_kernel, C=1.0, epsilon=0.2, gamma=0.1)\n",
    "    elif svm_kernel == 'rbf':\n",
    "        clf = svm.SVR(kernel=svm_kernel, C=1.0, epsilon=0.2, gamma=0.1)\n",
    "\n",
    "    clf.fit(X_train, y_train)\n",
    "    filename = \"model/svm_model_%s_%d.pkl\" %(svm_kernel, int(item_nbr))\n",
    "    joblib.dump(clf, filename)"
   ]
  },
  {
   "cell_type": "code",
   "execution_count": 9,
   "metadata": {},
   "outputs": [],
   "source": [
    "def svm_test(X_test, item_nbr, svm_kernel): # Needed to edit more\n",
    "    scalar_name = \"scalar/scale_%d.pkl\" %(int(item_nbr))\n",
    "    scalar = joblib.load(scalar_name)\n",
    "    X_test = scalar.transform(X_test)\n",
    "\n",
    "    model_name = \"model/svm_model_%s_%d.pkl\" %(svm_kernel, int(item_nbr))\n",
    "\n",
    "    clf = joblib.load(model_name)\n",
    "    y_pred = clf.predict(X_test)\n",
    "    return y_pred"
   ]
  },
  {
   "cell_type": "code",
   "execution_count": null,
   "metadata": {},
   "outputs": [],
   "source": []
  }
 ],
 "metadata": {
  "kernelspec": {
   "display_name": "Python 3",
   "language": "python",
   "name": "python3"
  },
  "language_info": {
   "codemirror_mode": {
    "name": "ipython",
    "version": 3
   },
   "file_extension": ".py",
   "mimetype": "text/x-python",
   "name": "python",
   "nbconvert_exporter": "python",
   "pygments_lexer": "ipython3",
   "version": "3.6.4"
  }
 },
 "nbformat": 4,
 "nbformat_minor": 2
}
